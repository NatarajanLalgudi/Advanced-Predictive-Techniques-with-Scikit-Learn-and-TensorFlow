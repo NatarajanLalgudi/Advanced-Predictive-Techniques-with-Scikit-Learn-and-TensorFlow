{
 "cells": [
  {
   "cell_type": "markdown",
   "metadata": {},
   "source": [
    "# K-Fold Cross-Validation"
   ]
  },
  {
   "cell_type": "markdown",
   "metadata": {},
   "source": [
    "![alt text](https://github.com/sara-kassani/Advanced-Predictive-Techniques-with-Scikit-Learn-and-TensorFlow/blob/master/data/k-fold.jpg?raw=true \"K-fold\")"
   ]
  },
  {
   "cell_type": "markdown",
   "metadata": {},
   "source": [
    "![alt text](https://github.com/sara-kassani/Advanced-Predictive-Techniques-with-Scikit-Learn-and-TensorFlow/blob/master/data/k-fold2.jpg?raw=true \"K-fold\")"
   ]
  },
  {
   "cell_type": "markdown",
   "metadata": {},
   "source": [
    "![alt text](https://github.com/sara-kassani/Advanced-Predictive-Techniques-with-Scikit-Learn-and-TensorFlow/blob/master/data/k-fold3.jpg?raw=true \"K-fold\")"
   ]
  },
  {
   "cell_type": "markdown",
   "metadata": {},
   "source": [
    "![alt text](https://github.com/sara-kassani/Advanced-Predictive-Techniques-with-Scikit-Learn-and-TensorFlow/blob/master/data/k-fold4.jpg?raw=true \"K-fold\")"
   ]
  },
  {
   "cell_type": "markdown",
   "metadata": {},
   "source": [
    "### Importing libraries"
   ]
  },
  {
   "cell_type": "code",
   "execution_count": null,
   "metadata": {
    "collapsed": true
   },
   "outputs": [],
   "source": [
    "import numpy as np\n",
    "import matplotlib.pyplot as plt\n",
    "import pandas as pd\n",
    "%matplotlib inline"
   ]
  },
  {
   "cell_type": "markdown",
   "metadata": {},
   "source": [
    "### Data preparation"
   ]
  },
  {
   "cell_type": "code",
   "execution_count": null,
   "metadata": {},
   "outputs": [],
   "source": [
    "# importing data\n",
    "data_path= 'data/diamonds.csv'\n",
    "diamonds = pd.read_csv(data_path)\n",
    "diamonds = pd.concat([diamonds, pd.get_dummies(diamonds['cut'], prefix='cut', drop_first=True)],axis=1)\n",
    "diamonds = pd.concat([diamonds, pd.get_dummies(diamonds['color'], prefix='color', drop_first=True)],axis=1)\n",
    "diamonds = pd.concat([diamonds, pd.get_dummies(diamonds['clarity'], prefix='clarity', drop_first=True)],axis=1)\n",
    "diamonds.drop(['cut','color','clarity'], axis=1, inplace=True)"
   ]
  },
  {
   "cell_type": "markdown",
   "metadata": {},
   "source": [
    "## Diamonds dataset"
   ]
  },
  {
   "cell_type": "markdown",
   "metadata": {},
   "source": [
    "### Preparing objects for modelling"
   ]
  },
  {
   "cell_type": "code",
   "execution_count": null,
   "metadata": {
    "collapsed": true
   },
   "outputs": [],
   "source": [
    "from sklearn.preprocessing import RobustScaler\n",
    "target_name = 'price'\n",
    "robust_scaler = RobustScaler()\n",
    "X = diamonds.drop('price', axis=1)\n",
    "X = robust_scaler.fit_transform(X)\n",
    "y = diamonds[target_name]\n",
    "# Notice that we are not doing train-test split\n",
    "#X_train, X_test, y_train, y_test = train_test_split(X, y, test_size=0.2, random_state=55)"
   ]
  },
  {
   "cell_type": "markdown",
   "metadata": {},
   "source": [
    "### Training our model"
   ]
  },
  {
   "cell_type": "code",
   "execution_count": null,
   "metadata": {
    "collapsed": true
   },
   "outputs": [],
   "source": [
    "from sklearn.ensemble import RandomForestRegressor\n",
    "RF = RandomForestRegressor(n_estimators=50, max_depth=16, random_state=123, n_jobs=-1)"
   ]
  },
  {
   "cell_type": "code",
   "execution_count": null,
   "metadata": {
    "collapsed": true
   },
   "outputs": [],
   "source": [
    "# this will work from sklearn version 0.19, if you get an error \n",
    "# make sure you upgrade: $conda upgrade scikit-learn\n",
    "from sklearn.model_selection import cross_validate"
   ]
  },
  {
   "cell_type": "code",
   "execution_count": null,
   "metadata": {},
   "outputs": [],
   "source": [
    "scores = cross_validate(estimator=RF,X=X,y=y,\n",
    "                        scoring=['mean_squared_error','r2'],\n",
    "                        cv=10, n_jobs=-1)"
   ]
  },
  {
   "cell_type": "code",
   "execution_count": null,
   "metadata": {},
   "outputs": [],
   "source": [
    "scores = pd.DataFrame(scores)\n",
    "scores['test_mean_squared_error'] = -1*scores['test_mean_squared_error']\n",
    "scores['train_mean_squared_error'] = -1*scores['train_mean_squared_error']\n",
    "scores"
   ]
  },
  {
   "cell_type": "code",
   "execution_count": null,
   "metadata": {},
   "outputs": [],
   "source": [
    "print(\"Mean test MSE:\", round(scores['test_mean_squared_error'].mean()))\n",
    "print(\"Mean test R-squared:\", scores['test_r2'].mean())"
   ]
  },
  {
   "cell_type": "markdown",
   "metadata": {},
   "source": [
    "## Credit card default dataset "
   ]
  },
  {
   "cell_type": "markdown",
   "metadata": {},
   "source": [
    "### Preparing the data"
   ]
  },
  {
   "cell_type": "code",
   "execution_count": null,
   "metadata": {},
   "outputs": [],
   "source": [
    "default = pd.read_csv('data/credit-card-default.csv')\n",
    "default.rename(columns={'pay_0':'pay_1','default payment next month':'default'}, inplace=True)\n",
    "# Base values: female, other_education, not_married\n",
    "default['grad_school'] = (default['education'] == 1).astype('int')\n",
    "default['university'] = (default['education'] == 2).astype('int')\n",
    "default['high_school'] = (default['education'] == 3).astype('int')\n",
    "default.drop('education', axis=1, inplace=True)\n",
    "\n",
    "default['male'] = (default['sex']==1).astype('int')\n",
    "default.drop('sex', axis=1, inplace=True)\n",
    "\n",
    "default['married'] = (default['marriage'] == 1).astype('int')\n",
    "default.drop('marriage', axis=1, inplace=True)\n",
    "\n",
    "# For pay_n features if >0 then it means the customer was delayed on that month\n",
    "pay_features = ['pay_' + str(i) for i in range(1,7)]\n",
    "for p in pay_features:\n",
    "    default[p] = (default[p] > 0).astype(int)"
   ]
  },
  {
   "cell_type": "markdown",
   "metadata": {},
   "source": [
    "### Preparing objects for modelling"
   ]
  },
  {
   "cell_type": "code",
   "execution_count": null,
   "metadata": {
    "collapsed": true
   },
   "outputs": [],
   "source": [
    "target_name = 'default'\n",
    "X_credit = default.drop('default', axis=1)\n",
    "feature_names = X_credit.columns\n",
    "robust_scaler = RobustScaler()\n",
    "X_credit = robust_scaler.fit_transform(X_credit)\n",
    "y_credit = default[target_name]"
   ]
  },
  {
   "cell_type": "code",
   "execution_count": null,
   "metadata": {
    "collapsed": true
   },
   "outputs": [],
   "source": [
    "from sklearn.ensemble import RandomForestClassifier\n",
    "RF_credit = RandomForestClassifier(n_estimators=35, max_depth=20, random_state=55, \n",
    "                                   max_features='sqrt', n_jobs=-1)"
   ]
  },
  {
   "cell_type": "code",
   "execution_count": null,
   "metadata": {
    "collapsed": true
   },
   "outputs": [],
   "source": [
    "scores_credit = cross_validate(estimator=RF_credit, X=X_credit, y=y_credit,\n",
    "                        scoring=['accuracy','precision','recall'],\n",
    "                        cv=10, n_jobs=-1)"
   ]
  },
  {
   "cell_type": "code",
   "execution_count": null,
   "metadata": {},
   "outputs": [],
   "source": [
    "scores_credit = pd.DataFrame(scores_credit)\n",
    "scores_credit"
   ]
  },
  {
   "cell_type": "code",
   "execution_count": null,
   "metadata": {
    "scrolled": true
   },
   "outputs": [],
   "source": [
    "scores_credit[['test_accuracy','test_precision','test_recall']].mean()"
   ]
  },
  {
   "cell_type": "code",
   "execution_count": null,
   "metadata": {},
   "outputs": [],
   "source": [
    "scores_credit[['test_accuracy','test_precision','test_recall']].std()"
   ]
  },
  {
   "cell_type": "code",
   "execution_count": null,
   "metadata": {
    "collapsed": true
   },
   "outputs": [],
   "source": []
  }
 ],
 "metadata": {
  "kernelspec": {
   "display_name": "Python 3",
   "language": "python",
   "name": "python3"
  },
  "language_info": {
   "codemirror_mode": {
    "name": "ipython",
    "version": 3
   },
   "file_extension": ".py",
   "mimetype": "text/x-python",
   "name": "python",
   "nbconvert_exporter": "python",
   "pygments_lexer": "ipython3",
   "version": "3.6.2"
  }
 },
 "nbformat": 4,
 "nbformat_minor": 2
}
