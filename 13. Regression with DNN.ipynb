{
 "cells": [
  {
   "cell_type": "markdown",
   "metadata": {},
   "source": [
    "# Regression with Deep Neural Networks"
   ]
  },
  {
   "cell_type": "code",
   "execution_count": 1,
   "metadata": {
    "collapsed": true
   },
   "outputs": [],
   "source": [
    "import tensorflow as tf\n",
    "import pandas as pd\n",
    "import numpy as np\n",
    "import matplotlib.pyplot as plt\n",
    "\n",
    "from sklearn.model_selection import train_test_split\n",
    "from tensorflow.contrib.layers import fully_connected\n",
    "\n",
    "%matplotlib inline"
   ]
  },
  {
   "cell_type": "markdown",
   "metadata": {},
   "source": [
    "## Elements of our DNN model:\n",
    "\n",
    "#### Architecture: \n",
    "- 23 elements in input layer\n",
    "- 1 element in output layer\n",
    "- 3 hidden layers: 256, 128, 64\n",
    "\n",
    "#### Activation function: ReLU"
   ]
  },
  {
   "cell_type": "markdown",
   "metadata": {},
   "source": [
    "#### Optimization algorithm: Adam Optimizer\n",
    "\n",
    "#### Loss function: Mean squared error\n",
    "\n",
    "#### Weights initialization strategy: Xavier initializer\n",
    "presented in the paper: http://proceedings.mlr.press/v9/glorot10a/glorot10a.pdf\n",
    "\n",
    "#### Regularization strategy: none\n",
    "\n",
    "#### Training: 40 epochs, batch size:50"
   ]
  },
  {
   "cell_type": "markdown",
   "metadata": {},
   "source": [
    "# Building the DNN"
   ]
  },
  {
   "cell_type": "markdown",
   "metadata": {},
   "source": [
    "### Reading the data"
   ]
  },
  {
   "cell_type": "code",
   "execution_count": 2,
   "metadata": {},
   "outputs": [],
   "source": [
    "data_path= 'data/diamonds.csv'\n",
    "diamonds = pd.read_csv(data_path)\n",
    "diamonds = pd.concat([diamonds, pd.get_dummies(diamonds['cut'], prefix='cut', drop_first=True)],axis=1)\n",
    "diamonds = pd.concat([diamonds, pd.get_dummies(diamonds['color'], prefix='color', drop_first=True)],axis=1)\n",
    "diamonds = pd.concat([diamonds, pd.get_dummies(diamonds['clarity'], prefix='clarity', drop_first=True)],axis=1)\n",
    "diamonds.drop(['cut','color','clarity'], axis=1, inplace=True)"
   ]
  },
  {
   "cell_type": "markdown",
   "metadata": {},
   "source": [
    "### Objects for modelling"
   ]
  },
  {
   "cell_type": "code",
   "execution_count": 3,
   "metadata": {
    "collapsed": true
   },
   "outputs": [],
   "source": [
    "from sklearn.preprocessing import RobustScaler\n",
    "target_name = 'price'\n",
    "robust_scaler = RobustScaler()\n",
    "X = diamonds.drop('price', axis=1)\n",
    "X = robust_scaler.fit_transform(X)\n",
    "y = diamonds[target_name]\n",
    "X_train, X_test, y_train, y_test = train_test_split(X, y, test_size=0.1, random_state=123)"
   ]
  },
  {
   "cell_type": "markdown",
   "metadata": {},
   "source": [
    "#### Training strategy"
   ]
  },
  {
   "cell_type": "code",
   "execution_count": 4,
   "metadata": {
    "collapsed": true
   },
   "outputs": [],
   "source": [
    "n_epochs = 40\n",
    "batch_size = 50 "
   ]
  },
  {
   "cell_type": "markdown",
   "metadata": {},
   "source": [
    "#### Input pipeline for the DNN\n",
    "Take a look at: https://www.tensorflow.org/programmers_guide/datasets"
   ]
  },
  {
   "cell_type": "code",
   "execution_count": 5,
   "metadata": {
    "collapsed": true
   },
   "outputs": [],
   "source": [
    "X_placeholder = tf.placeholder(X_train.dtype, shape=X_train.shape)\n",
    "y_placeholder = tf.placeholder(y_train.dtype, shape=y_train.shape)\n",
    "\n",
    "dataset = tf.contrib.data.Dataset.from_tensor_slices((X_placeholder, y_placeholder))\n",
    "dataset = dataset.shuffle(buffer_size=10000)\n",
    "dataset = dataset.batch(batch_size)\n",
    "iterator = dataset.make_initializable_iterator()\n",
    "next_element = iterator.get_next()"
   ]
  },
  {
   "cell_type": "markdown",
   "metadata": {},
   "source": [
    "#### Architecture"
   ]
  },
  {
   "cell_type": "code",
   "execution_count": 6,
   "metadata": {
    "collapsed": true
   },
   "outputs": [],
   "source": [
    "n_inputs = X_train.shape[1] #23\n",
    "n_hidden1 = 256\n",
    "n_hidden2 = 128 \n",
    "n_hidden3 = 64\n",
    "n_outputs = 1"
   ]
  },
  {
   "cell_type": "markdown",
   "metadata": {},
   "source": [
    "#### Placeholders for inputs and labels"
   ]
  },
  {
   "cell_type": "code",
   "execution_count": 7,
   "metadata": {
    "collapsed": true
   },
   "outputs": [],
   "source": [
    "X = tf.placeholder(X_train.dtype, shape=[None,n_inputs])\n",
    "y = tf.placeholder(y_train.dtype)"
   ]
  },
  {
   "cell_type": "markdown",
   "metadata": {},
   "source": [
    "#### Building the DNN"
   ]
  },
  {
   "cell_type": "code",
   "execution_count": 8,
   "metadata": {
    "collapsed": true
   },
   "outputs": [],
   "source": [
    "def DNN(X_values):\n",
    "    hidden1 = fully_connected(X_values, n_hidden1)\n",
    "    hidden2 = fully_connected(hidden1, n_hidden2)\n",
    "    hidden3 = fully_connected(hidden2, n_hidden3)\n",
    "    y_pred = fully_connected(hidden3, n_outputs, activation_fn=None)\n",
    "    return tf.squeeze(y_pred)"
   ]
  },
  {
   "cell_type": "markdown",
   "metadata": {},
   "source": [
    "#### Loss function"
   ]
  },
  {
   "cell_type": "code",
   "execution_count": 9,
   "metadata": {
    "collapsed": true
   },
   "outputs": [],
   "source": [
    "y_pred = DNN(X)\n",
    "loss = tf.losses.mean_squared_error(labels=y, predictions=y_pred)"
   ]
  },
  {
   "cell_type": "markdown",
   "metadata": {},
   "source": [
    "#### Optimizer & training operation"
   ]
  },
  {
   "cell_type": "code",
   "execution_count": 10,
   "metadata": {
    "collapsed": true
   },
   "outputs": [],
   "source": [
    "optimizer = tf.train.AdamOptimizer()\n",
    "training_op = optimizer.minimize(loss)"
   ]
  },
  {
   "cell_type": "markdown",
   "metadata": {},
   "source": [
    "#### np arrays to record evaluation metrics"
   ]
  },
  {
   "cell_type": "code",
   "execution_count": 11,
   "metadata": {
    "collapsed": true
   },
   "outputs": [],
   "source": [
    "train_mse = np.zeros(n_epochs)\n",
    "test_mse = np.zeros(n_epochs)"
   ]
  },
  {
   "cell_type": "markdown",
   "metadata": {},
   "source": [
    "#### Running the computational graph"
   ]
  },
  {
   "cell_type": "code",
   "execution_count": 12,
   "metadata": {},
   "outputs": [
    {
     "name": "stdout",
     "output_type": "stream",
     "text": [
      "=============EPOCH 1============\n",
      "Training MSE: 337999.0\n",
      "Test MSE: 960184.5\n",
      "=============EPOCH 2============\n",
      "Training MSE: 973758.5\n",
      "Test MSE: 794374.4\n",
      "=============EPOCH 3============\n",
      "Training MSE: 251748.4\n",
      "Test MSE: 720202.4\n",
      "=============EPOCH 4============\n",
      "Training MSE: 2079644.5\n",
      "Test MSE: 674335.3\n",
      "=============EPOCH 5============\n",
      "Training MSE: 1248481.4\n",
      "Test MSE: 633599.5\n",
      "=============EPOCH 6============\n",
      "Training MSE: 174838.1\n",
      "Test MSE: 617826.6\n",
      "=============EPOCH 7============\n",
      "Training MSE: 431207.2\n",
      "Test MSE: 577503.4\n",
      "=============EPOCH 8============\n",
      "Training MSE: 444546.4\n",
      "Test MSE: 543685.6\n",
      "=============EPOCH 9============\n",
      "Training MSE: 275003.9\n",
      "Test MSE: 515928.6\n",
      "=============EPOCH 10============\n",
      "Training MSE: 161019.0\n",
      "Test MSE: 495262.9\n",
      "=============EPOCH 11============\n",
      "Training MSE: 106493.8\n",
      "Test MSE: 476623.4\n",
      "=============EPOCH 12============\n",
      "Training MSE: 390478.2\n",
      "Test MSE: 450671.6\n",
      "=============EPOCH 13============\n",
      "Training MSE: 326713.2\n",
      "Test MSE: 420519.3\n",
      "=============EPOCH 14============\n",
      "Training MSE: 432244.0\n",
      "Test MSE: 425511.4\n",
      "=============EPOCH 15============\n",
      "Training MSE: 276330.9\n",
      "Test MSE: 397658.5\n",
      "=============EPOCH 16============\n",
      "Training MSE: 416396.6\n",
      "Test MSE: 368029.6\n",
      "=============EPOCH 17============\n",
      "Training MSE: 352673.9\n",
      "Test MSE: 366005.8\n",
      "=============EPOCH 18============\n",
      "Training MSE: 148716.3\n",
      "Test MSE: 365639.1\n",
      "=============EPOCH 19============\n",
      "Training MSE: 331448.5\n",
      "Test MSE: 346439.9\n",
      "=============EPOCH 20============\n",
      "Training MSE: 391588.2\n",
      "Test MSE: 389565.1\n",
      "=============EPOCH 21============\n",
      "Training MSE: 373281.4\n",
      "Test MSE: 350331.1\n",
      "=============EPOCH 22============\n",
      "Training MSE: 376895.6\n",
      "Test MSE: 357891.2\n",
      "=============EPOCH 23============\n",
      "Training MSE: 642872.6\n",
      "Test MSE: 355760.2\n",
      "=============EPOCH 24============\n",
      "Training MSE: 216993.1\n",
      "Test MSE: 351404.8\n",
      "=============EPOCH 25============\n",
      "Training MSE: 119517.2\n",
      "Test MSE: 334260.9\n",
      "=============EPOCH 26============\n",
      "Training MSE: 215390.9\n",
      "Test MSE: 330313.8\n",
      "=============EPOCH 27============\n",
      "Training MSE: 114121.9\n",
      "Test MSE: 326453.0\n",
      "=============EPOCH 28============\n",
      "Training MSE: 145555.5\n",
      "Test MSE: 350491.4\n",
      "=============EPOCH 29============\n",
      "Training MSE: 219977.3\n",
      "Test MSE: 327279.4\n",
      "=============EPOCH 30============\n",
      "Training MSE: 259553.9\n",
      "Test MSE: 329824.3\n",
      "=============EPOCH 31============\n",
      "Training MSE: 212319.7\n",
      "Test MSE: 324723.1\n",
      "=============EPOCH 32============\n",
      "Training MSE: 210991.3\n",
      "Test MSE: 322439.3\n",
      "=============EPOCH 33============\n",
      "Training MSE: 191101.3\n",
      "Test MSE: 326449.8\n",
      "=============EPOCH 34============\n",
      "Training MSE: 231524.3\n",
      "Test MSE: 356366.2\n",
      "=============EPOCH 35============\n",
      "Training MSE: 143846.2\n",
      "Test MSE: 345301.1\n",
      "=============EPOCH 36============\n",
      "Training MSE: 318032.6\n",
      "Test MSE: 335690.9\n",
      "=============EPOCH 37============\n",
      "Training MSE: 336909.8\n",
      "Test MSE: 320769.9\n",
      "=============EPOCH 38============\n",
      "Training MSE: 116209.4\n",
      "Test MSE: 357439.0\n",
      "=============EPOCH 39============\n",
      "Training MSE: 550437.3\n",
      "Test MSE: 323353.4\n",
      "=============EPOCH 40============\n",
      "Training MSE: 644877.0\n",
      "Test MSE: 325835.4\n",
      "Done Trainning\n",
      "\n",
      "=====================\n",
      "\n",
      "Using the network to make individual predictions\n",
      "Actual | Predicted\n",
      "=====================\n",
      "     802   |   806.0\n",
      "     935   |   927.0\n",
      "    5826   |  6026.0\n",
      "     935   |   993.0\n",
      "    2817   |  3087.0\n",
      "     855   |   748.0\n",
      "    2846   |  2788.0\n",
      "     926   |   928.0\n",
      "   15962   | 16427.0\n",
      "    5445   |  5360.0\n",
      "    2550   |  2227.0\n",
      "    6221   |  5474.0\n",
      "     544   |   565.0\n",
      "    1122   |   912.0\n",
      "    1367   |  1269.0\n",
      "    4077   |  3971.0\n",
      "    2144   |  1946.0\n",
      "    2960   |  2717.0\n",
      "    7131   |  7982.0\n",
      "    1221   |  1227.0\n",
      "    4563   |  5375.0\n",
      "    3830   |  4104.0\n",
      "    1137   |  1154.0\n",
      "    1361   |  1360.0\n",
      "    4641   |  4612.0\n",
      "Correlation:  0.995944907389\n"
     ]
    }
   ],
   "source": [
    "with tf.Session() as sess:\n",
    "    tf.global_variables_initializer().run()\n",
    "    for epoch in range(n_epochs):\n",
    "        sess.run(iterator.initializer, feed_dict={X_placeholder: X_train, y_placeholder: y_train})\n",
    "        while True:\n",
    "            try:\n",
    "                batch_data = sess.run(next_element)\n",
    "                X_batch = batch_data[0]\n",
    "                y_batch = batch_data[1]\n",
    "                sess.run(training_op, feed_dict={X: X_batch, y:y_batch})\n",
    "            except tf.errors.OutOfRangeError:\n",
    "                break\n",
    "        print(\"=============EPOCH {}============\".format(epoch+1))\n",
    "        train_mse[epoch] = loss.eval(feed_dict={X:X_batch, y:y_batch})\n",
    "        test_mse[epoch] = loss.eval(feed_dict={X:X_test, y:y_test})\n",
    "        print('Training MSE:', round(train_mse[epoch],1))\n",
    "        print('Test MSE:', round(test_mse[epoch],1))\n",
    "    print(\"Done Trainning\")\n",
    "    \n",
    "    ## Producing individual predictions\n",
    "    print(\"\\n=====================\\n\")\n",
    "    print(\"Using the network to make individual predictions\")\n",
    "    n_pred = 25\n",
    "    y_obs = y_test[:n_pred]\n",
    "    y_predicted = y_pred.eval(feed_dict={X:X_test[:n_pred,]})\n",
    "    print(\"Actual | Predicted\")\n",
    "    print(\"=====================\") \n",
    "    for obs, pred in zip(y_obs, y_predicted):\n",
    "        print(\"{: >8}   |{: >8}\".format(round(obs), round(pred)))\n",
    "    print(\"Correlation: \", np.corrcoef(y_obs, y_predicted)[0,1])"
   ]
  },
  {
   "cell_type": "code",
   "execution_count": 13,
   "metadata": {
    "scrolled": true
   },
   "outputs": [
    {
     "data": {
      "image/png": "[encoded data removed]",
      "text/plain": [
       "<matplotlib.figure.Figure at 0x7f4bd4173860>"
      ]
     },
     "metadata": {},
     "output_type": "display_data"
    }
   ],
   "source": [
    "fig, ax = plt.subplots(figsize=(8,6))\n",
    "ax.plot(train_mse, label='Train MSE')\n",
    "ax.plot(test_mse, label='Test MSE')\n",
    "ax.legend()\n",
    "ax.grid()"
   ]
  },
  {
   "cell_type": "markdown",
   "metadata": {
    "collapsed": true
   },
   "source": [
    "### Question: Compared with former models, do we get better performance with this DNN model?"
   ]
  }
 ],
 "metadata": {
  "kernelspec": {
   "display_name": "Python 3",
   "language": "python",
   "name": "python3"
  },
  "language_info": {
   "codemirror_mode": {
    "name": "ipython",
    "version": 3
   },
   "file_extension": ".py",
   "mimetype": "text/x-python",
   "name": "python",
   "nbconvert_exporter": "python",
   "pygments_lexer": "ipython3",
   "version": "3.6.2"
  }
 },
 "nbformat": 4,
 "nbformat_minor": 2
}
