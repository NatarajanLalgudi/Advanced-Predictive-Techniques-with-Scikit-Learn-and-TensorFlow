{
 "cells": [
  {
   "cell_type": "markdown",
   "metadata": {},
   "source": [
    "# Core Concepts in Artificial Neural Network (ANN)"
   ]
  },
  {
   "cell_type": "markdown",
   "metadata": {},
   "source": [
    "![alt text](https://github.com/sara-kassani/Advanced-Predictive-Techniques-with-Scikit-Learn-and-TensorFlow/blob/master/data/perceptron1.jpg?raw=true \"ANN\")"
   ]
  },
  {
   "cell_type": "markdown",
   "metadata": {},
   "source": [
    "![alt text](https://github.com/sara-kassani/Advanced-Predictive-Techniques-with-Scikit-Learn-and-TensorFlow/blob/master/data/perceptron2.jpg?raw=true \"ANN\")"
   ]
  },
  {
   "cell_type": "markdown",
   "metadata": {},
   "source": [
    "![alt text](https://github.com/sara-kassani/Advanced-Predictive-Techniques-with-Scikit-Learn-and-TensorFlow/blob/master/data/ANN0.jpg?raw=true \"ANN\")"
   ]
  },
  {
   "cell_type": "markdown",
   "metadata": {},
   "source": [
    "![alt text](https://github.com/sara-kassani/Advanced-Predictive-Techniques-with-Scikit-Learn-and-TensorFlow/blob/master/data/ANN1.jpg?raw=true \"ANN\")"
   ]
  },
  {
   "cell_type": "markdown",
   "metadata": {},
   "source": [
    "![alt text](https://github.com/sara-kassani/Advanced-Predictive-Techniques-with-Scikit-Learn-and-TensorFlow/blob/master/data/ANN2.jpg?raw=true \"ANN\")"
   ]
  },
  {
   "cell_type": "markdown",
   "metadata": {},
   "source": [
    "![alt text](https://github.com/sara-kassani/Advanced-Predictive-Techniques-with-Scikit-Learn-and-TensorFlow/blob/master/data/ANN3.jpg?raw=true \"ANN\")"
   ]
  },
  {
   "cell_type": "markdown",
   "metadata": {},
   "source": [
    "![alt text](https://github.com/sara-kassani/Advanced-Predictive-Techniques-with-Scikit-Learn-and-TensorFlow/blob/master/data/ANN4.jpg?raw=true \"ANN\")"
   ]
  },
  {
   "cell_type": "markdown",
   "metadata": {},
   "source": [
    "![alt text](https://github.com/sara-kassani/Advanced-Predictive-Techniques-with-Scikit-Learn-and-TensorFlow/blob/master/data/ANN5.jpg?raw=true \"ANN\")"
   ]
  },
  {
   "cell_type": "markdown",
   "metadata": {},
   "source": [
    "![alt text](https://github.com/sara-kassani/Advanced-Predictive-Techniques-with-Scikit-Learn-and-TensorFlow/blob/master/data/ANN6.jpg?raw=true \"ANN\")"
   ]
  },
  {
   "cell_type": "markdown",
   "metadata": {},
   "source": [
    "![alt text](https://github.com/sara-kassani/Advanced-Predictive-Techniques-with-Scikit-Learn-and-TensorFlow/blob/master/data/ANN7.jpg?raw=true \"ANN\")"
   ]
  },
  {
   "cell_type": "markdown",
   "metadata": {},
   "source": [
    "![alt text](https://github.com/sara-kassani/Advanced-Predictive-Techniques-with-Scikit-Learn-and-TensorFlow/blob/master/data/ANN8.jpg?raw=true \"ANN\")"
   ]
  }
 ],
 "metadata": {
  "kernelspec": {
   "display_name": "Python 3",
   "language": "python",
   "name": "python3"
  },
  "language_info": {
   "codemirror_mode": {
    "name": "ipython",
    "version": 3
   },
   "file_extension": ".py",
   "mimetype": "text/x-python",
   "name": "python",
   "nbconvert_exporter": "python",
   "pygments_lexer": "ipython3",
   "version": "3.6.2"
  }
 },
 "nbformat": 4,
 "nbformat_minor": 2
}
